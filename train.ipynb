{
 "cells": [
  {
   "cell_type": "code",
   "execution_count": 1,
   "id": "8d6e5a72",
   "metadata": {},
   "outputs": [],
   "source": [
    "import pandas as pd"
   ]
  },
  {
   "cell_type": "code",
   "execution_count": 2,
   "id": "195f5610",
   "metadata": {},
   "outputs": [
    {
     "data": {
      "text/html": [
       "<div>\n",
       "<style scoped>\n",
       "    .dataframe tbody tr th:only-of-type {\n",
       "        vertical-align: middle;\n",
       "    }\n",
       "\n",
       "    .dataframe tbody tr th {\n",
       "        vertical-align: top;\n",
       "    }\n",
       "\n",
       "    .dataframe thead th {\n",
       "        text-align: right;\n",
       "    }\n",
       "</style>\n",
       "<table border=\"1\" class=\"dataframe\">\n",
       "  <thead>\n",
       "    <tr style=\"text-align: right;\">\n",
       "      <th></th>\n",
       "      <th>poem_id</th>\n",
       "      <th>poem_link</th>\n",
       "      <th>poem_style</th>\n",
       "      <th>poem_text</th>\n",
       "      <th>poem_title</th>\n",
       "      <th>poet_cat</th>\n",
       "      <th>poet_id</th>\n",
       "      <th>poet_link</th>\n",
       "      <th>poet_name</th>\n",
       "    </tr>\n",
       "  </thead>\n",
       "  <tbody>\n",
       "    <tr>\n",
       "      <th>0</th>\n",
       "      <td>21</td>\n",
       "      <td>http://www.adab.com/modules.php?name=Sh3er&amp;doW...</td>\n",
       "      <td>فصحى</td>\n",
       "      <td>عيناك غابتا نخيل ساعة السحر او شرفتان راح يناي...</td>\n",
       "      <td>أنشودة المطر</td>\n",
       "      <td>العراق</td>\n",
       "      <td>2</td>\n",
       "      <td>http://www.adab.com/modules.php?name=Sh3er&amp;doW...</td>\n",
       "      <td>بدر شاكر السياب</td>\n",
       "    </tr>\n",
       "    <tr>\n",
       "      <th>1</th>\n",
       "      <td>65546</td>\n",
       "      <td>http://www.adab.com/modules.php?name=Sh3er&amp;doW...</td>\n",
       "      <td>فصحى</td>\n",
       "      <td>انا لا ازال و في يدي قدحي ياليل اين تفرق الشر...</td>\n",
       "      <td>أقداح و أحلام</td>\n",
       "      <td>العراق</td>\n",
       "      <td>2</td>\n",
       "      <td>http://www.adab.com/modules.php?name=Sh3er&amp;doW...</td>\n",
       "      <td>بدر شاكر السياب</td>\n",
       "    </tr>\n",
       "    <tr>\n",
       "      <th>2</th>\n",
       "      <td>65561</td>\n",
       "      <td>http://www.adab.com/modules.php?name=Sh3er&amp;doW...</td>\n",
       "      <td>فصحى</td>\n",
       "      <td>علي مقلتيك ارتشفت النجوم وعانقت امالي الايبة ...</td>\n",
       "      <td>هوى واحد !</td>\n",
       "      <td>العراق</td>\n",
       "      <td>2</td>\n",
       "      <td>http://www.adab.com/modules.php?name=Sh3er&amp;doW...</td>\n",
       "      <td>بدر شاكر السياب</td>\n",
       "    </tr>\n",
       "    <tr>\n",
       "      <th>3</th>\n",
       "      <td>65554</td>\n",
       "      <td>http://www.adab.com/modules.php?name=Sh3er&amp;doW...</td>\n",
       "      <td>فصحى</td>\n",
       "      <td>اساطير من حشرجات الزمان نسيج اليد البالية رواه...</td>\n",
       "      <td>أساطير</td>\n",
       "      <td>العراق</td>\n",
       "      <td>2</td>\n",
       "      <td>http://www.adab.com/modules.php?name=Sh3er&amp;doW...</td>\n",
       "      <td>بدر شاكر السياب</td>\n",
       "    </tr>\n",
       "    <tr>\n",
       "      <th>4</th>\n",
       "      <td>65550</td>\n",
       "      <td>http://www.adab.com/modules.php?name=Sh3er&amp;doW...</td>\n",
       "      <td>فصحى</td>\n",
       "      <td>والتف حولك ساعداي ومال جيدك في اشتهاء كالزهرة ...</td>\n",
       "      <td>اللقاء الأخير</td>\n",
       "      <td>العراق</td>\n",
       "      <td>2</td>\n",
       "      <td>http://www.adab.com/modules.php?name=Sh3er&amp;doW...</td>\n",
       "      <td>بدر شاكر السياب</td>\n",
       "    </tr>\n",
       "  </tbody>\n",
       "</table>\n",
       "</div>"
      ],
      "text/plain": [
       "   poem_id                                          poem_link poem_style  \\\n",
       "0       21  http://www.adab.com/modules.php?name=Sh3er&doW...       فصحى   \n",
       "1    65546  http://www.adab.com/modules.php?name=Sh3er&doW...       فصحى   \n",
       "2    65561  http://www.adab.com/modules.php?name=Sh3er&doW...       فصحى   \n",
       "3    65554  http://www.adab.com/modules.php?name=Sh3er&doW...       فصحى   \n",
       "4    65550  http://www.adab.com/modules.php?name=Sh3er&doW...       فصحى   \n",
       "\n",
       "                                           poem_text      poem_title poet_cat  \\\n",
       "0  عيناك غابتا نخيل ساعة السحر او شرفتان راح يناي...   أنشودة المطر    العراق   \n",
       "1   انا لا ازال و في يدي قدحي ياليل اين تفرق الشر...  أقداح و أحلام    العراق   \n",
       "2   علي مقلتيك ارتشفت النجوم وعانقت امالي الايبة ...     هوى واحد !    العراق   \n",
       "3  اساطير من حشرجات الزمان نسيج اليد البالية رواه...         أساطير    العراق   \n",
       "4  والتف حولك ساعداي ومال جيدك في اشتهاء كالزهرة ...  اللقاء الأخير    العراق   \n",
       "\n",
       "   poet_id                                          poet_link        poet_name  \n",
       "0        2  http://www.adab.com/modules.php?name=Sh3er&doW...  بدر شاكر السياب  \n",
       "1        2  http://www.adab.com/modules.php?name=Sh3er&doW...  بدر شاكر السياب  \n",
       "2        2  http://www.adab.com/modules.php?name=Sh3er&doW...  بدر شاكر السياب  \n",
       "3        2  http://www.adab.com/modules.php?name=Sh3er&doW...  بدر شاكر السياب  \n",
       "4        2  http://www.adab.com/modules.php?name=Sh3er&doW...  بدر شاكر السياب  "
      ]
     },
     "execution_count": 2,
     "metadata": {},
     "output_type": "execute_result"
    }
   ],
   "source": [
    "data = pd.read_csv('all_poems.csv'  , encoding='utf-8')\n",
    "data.head()"
   ]
  },
  {
   "cell_type": "code",
   "execution_count": 3,
   "id": "55adf0e0",
   "metadata": {},
   "outputs": [
    {
     "data": {
      "text/plain": [
       "العصر العباسي          19417\n",
       "العصر الأندلسي          6296\n",
       "سوريا                   5036\n",
       "لبنان                   4800\n",
       "مصر                     4793\n",
       "العراق                  4252\n",
       "العصر الإسلامي          3700\n",
       "السعودية                1931\n",
       "فلسطين                  1713\n",
       "العصر الجاهلي           1461\n",
       "اليمن                    700\n",
       "عمان                     619\n",
       "الإمارات                 563\n",
       "البحرين                  555\n",
       "الجزائر                  405\n",
       "السودان                  403\n",
       "تونس                     351\n",
       "الأردن                   265\n",
       "ليبيا                    240\n",
       "المغرب                   202\n",
       "إيران                     90\n",
       "أفغانستان                 70\n",
       "شعراء العراق والشام       68\n",
       "الكويت                    54\n",
       "قطر                       22\n",
       "موريتانيا                 15\n",
       "Name: poet_cat, dtype: int64"
      ]
     },
     "execution_count": 3,
     "metadata": {},
     "output_type": "execute_result"
    }
   ],
   "source": [
    "data['poet_cat'].value_counts()"
   ]
  },
  {
   "cell_type": "code",
   "execution_count": 4,
   "id": "1e509827",
   "metadata": {},
   "outputs": [
    {
     "data": {
      "text/plain": [
       "Index(['poem_id', 'poem_link', 'poem_style', 'poem_text', 'poem_title',\n",
       "       'poet_cat', 'poet_id', 'poet_link', 'poet_name'],\n",
       "      dtype='object')"
      ]
     },
     "execution_count": 4,
     "metadata": {},
     "output_type": "execute_result"
    }
   ],
   "source": [
    "data.columns"
   ]
  },
  {
   "cell_type": "code",
   "execution_count": 5,
   "id": "1153dd40",
   "metadata": {},
   "outputs": [],
   "source": [
    "data.drop(columns=['poem_id', 'poem_link', 'poem_style' , 'poem_title' , 'poet_id', 'poet_link', 'poet_name' ] ,inplace=True)"
   ]
  },
  {
   "cell_type": "code",
   "execution_count": 6,
   "id": "7700b199",
   "metadata": {
    "scrolled": true
   },
   "outputs": [
    {
     "data": {
      "text/plain": [
       "Index(['poem_text', 'poet_cat'], dtype='object')"
      ]
     },
     "execution_count": 6,
     "metadata": {},
     "output_type": "execute_result"
    }
   ],
   "source": [
    "data.columns"
   ]
  },
  {
   "cell_type": "code",
   "execution_count": 7,
   "id": "673fa7d1",
   "metadata": {},
   "outputs": [],
   "source": [
    "data.dropna(inplace=True)"
   ]
  },
  {
   "cell_type": "code",
   "execution_count": 8,
   "id": "fecdf18f",
   "metadata": {},
   "outputs": [
    {
     "data": {
      "text/html": [
       "<div>\n",
       "<style scoped>\n",
       "    .dataframe tbody tr th:only-of-type {\n",
       "        vertical-align: middle;\n",
       "    }\n",
       "\n",
       "    .dataframe tbody tr th {\n",
       "        vertical-align: top;\n",
       "    }\n",
       "\n",
       "    .dataframe thead th {\n",
       "        text-align: right;\n",
       "    }\n",
       "</style>\n",
       "<table border=\"1\" class=\"dataframe\">\n",
       "  <thead>\n",
       "    <tr style=\"text-align: right;\">\n",
       "      <th></th>\n",
       "      <th>poem_text</th>\n",
       "      <th>poet_cat</th>\n",
       "    </tr>\n",
       "  </thead>\n",
       "  <tbody>\n",
       "    <tr>\n",
       "      <th>0</th>\n",
       "      <td>عيناك غابتا نخيل ساعة السحر او شرفتان راح يناي...</td>\n",
       "      <td>العراق</td>\n",
       "    </tr>\n",
       "    <tr>\n",
       "      <th>1</th>\n",
       "      <td>انا لا ازال و في يدي قدحي ياليل اين تفرق الشر...</td>\n",
       "      <td>العراق</td>\n",
       "    </tr>\n",
       "    <tr>\n",
       "      <th>2</th>\n",
       "      <td>علي مقلتيك ارتشفت النجوم وعانقت امالي الايبة ...</td>\n",
       "      <td>العراق</td>\n",
       "    </tr>\n",
       "    <tr>\n",
       "      <th>3</th>\n",
       "      <td>اساطير من حشرجات الزمان نسيج اليد البالية رواه...</td>\n",
       "      <td>العراق</td>\n",
       "    </tr>\n",
       "    <tr>\n",
       "      <th>4</th>\n",
       "      <td>والتف حولك ساعداي ومال جيدك في اشتهاء كالزهرة ...</td>\n",
       "      <td>العراق</td>\n",
       "    </tr>\n",
       "  </tbody>\n",
       "</table>\n",
       "</div>"
      ],
      "text/plain": [
       "                                           poem_text poet_cat\n",
       "0  عيناك غابتا نخيل ساعة السحر او شرفتان راح يناي...   العراق\n",
       "1   انا لا ازال و في يدي قدحي ياليل اين تفرق الشر...   العراق\n",
       "2   علي مقلتيك ارتشفت النجوم وعانقت امالي الايبة ...   العراق\n",
       "3  اساطير من حشرجات الزمان نسيج اليد البالية رواه...   العراق\n",
       "4  والتف حولك ساعداي ومال جيدك في اشتهاء كالزهرة ...   العراق"
      ]
     },
     "execution_count": 8,
     "metadata": {},
     "output_type": "execute_result"
    }
   ],
   "source": [
    "data.head()"
   ]
  },
  {
   "cell_type": "code",
   "execution_count": 9,
   "id": "044e6d0d",
   "metadata": {
    "scrolled": true
   },
   "outputs": [
    {
     "data": {
      "text/plain": [
       "poem_text    0\n",
       "poet_cat     0\n",
       "dtype: int64"
      ]
     },
     "execution_count": 9,
     "metadata": {},
     "output_type": "execute_result"
    }
   ],
   "source": [
    "data.isna().sum()"
   ]
  },
  {
   "cell_type": "code",
   "execution_count": 10,
   "id": "7be100cb",
   "metadata": {},
   "outputs": [],
   "source": [
    "data.drop_duplicates(inplace=True)"
   ]
  },
  {
   "cell_type": "code",
   "execution_count": 11,
   "id": "e8d87de4",
   "metadata": {},
   "outputs": [],
   "source": [
    "import re"
   ]
  },
  {
   "cell_type": "code",
   "execution_count": 12,
   "id": "592b603b",
   "metadata": {},
   "outputs": [],
   "source": [
    "def clean_text(text):\n",
    "    text = re.sub('[آإأ]','ا', text)\n",
    "    text=re.sub('ة', 'ه' , text)\n",
    "    text=re.sub('[^ ضصثقفغعهخحجدطكمنئءؤآأإتالبيسشظزور]' , ' ',text)\n",
    "    text=re.sub(' +' , ' ',text)\n",
    "    text=text.strip()\n",
    "    return text"
   ]
  },
  {
   "cell_type": "code",
   "execution_count": 13,
   "id": "f680ff30",
   "metadata": {},
   "outputs": [
    {
     "data": {
      "text/plain": [
       "' انا لا ازال و في يدي قدحي ياليل اين تفرق الشرب ما زلت اشربها و اشربها حتي ترنح افقك الرحب الشرق عفر بالضباب فما يبدو فاين سناك يا غرب ما لنجوم غرقن من سام في ضوءهن و كادت الشهب انا لا ازال و في يدي قدحي ياليل اين تفرق الشرب ****** الحان بالشهوات مصطخب حتي يكاد بهن ينهار و كان مصاحبيه من ضرج كفان مدهما لي العار كفان بل ثغران قد صبغا بدم تدفق منه تيار كاسان ملءهما طلي عصرت من مهجتين رماهما الحب او مخلبان عليهما مزق حمراء تزعم انها قلب ****** الخمر جمعت الدهور , ومافيهن بين جوانب الحان ياويحها اسكرت ام سكرتام نحن في السكرات سيان رمت العوالم والدهور علي ثغري وفوق يدي واجفاني كفي تمد فما تناولني كاسا لعيني خمرها نهب واصافح الدنيا فياعجبا البعد لان واعرض القرب ****** يا ليل اين تطوف بي قدمي في اي منعرج من الظلم تلك السبيل اكاد اعرفها بالامس خاصر طيفها حلمي هي غمد خنجرك الرهيب و قد جردته و مسحت عنه دمي تلك السبيل علي جوانبها تمزق الخطوات او تكبو تثاءب الاجساد جاءعة فيها كما يتثاءب الذءب حسناء يلهب عريها ظماي فاكاد اشرب ذلك العريا و اكاد احطمه فتحطمني عينان جاءعتان كالدنيا غرست يد الحمي علي فمها زهرا طوي شهواتها طيا ان فتحته بحرها شفة سكري يعربد فوقها ندب رقص الهيب علي كماءمه و مشي الطلاء يهزه الوثب عين يرنح هدبها نفسي وفم يقطع همسه الداء ويد علي كتفي مجلجلة رباه ويك اتلك حواء لا كنت ادمها و لا لفحت فردوسي الخمري صحراء صوت النعاس يرن في افقي فتذوب ناعسة به السحب ان الفراش يقيك ياقدمي سوء العثار اذا دجي درب ****** انا حاءر متوجف قلق كالظل بين جوانب البحر المد قربني الي شبحي والان تبعدني يد الجزر وانا الضياء تخيفني دجن واخاف ان ساضيع في الفجر يانوم كل عوالمي حجب ولو التقيتك ذابت الحجب و انثال من سهري علي سهري ينبوعك المتثاءب الرطب اثملت بين جوانحي املا ماكنت اعلم انه امل مثل الفراشة عاد يحبسها دوح بذاءب طله خضل لولا خفوق جناحها غفلت بيض الازاهر عنه والمقل انا من ظلالك بين اودية عذراء كل سهادها عشب هام الضباب علي جوانبها طل الوشاح كنجمة تخبو ****** انا كوكب ظمان ترعشه نطف مءرجة من السحر انا غير جسمي عالمي حلم بكر الظلال ولمحه عمري قلبي تغرب عن احبته وانسل من نغماته وتري فاذا لثمت فغير خادعة بات لكل مخادع تصبو واذا شدوت ارن في افق عبر السماء غناءي العذب ****** هو يافءادي طيفها مسحت عنه التراب انامل الغسق هو غير تلك اما تري القا هو من دماءك انت من حرقي هو غيرها غدرت وبادلني حبي و ضمد بالسنا افقي ومن المهازل ان يري امدا بين الخيانة و الهوي _ هدب اين العوالم كيف غيرها نوم يرف وخاطر صب ****** خفقت ذواءبها علي شفتي و سني فاسكر عطرها نفسي نهر من النفحات ارشفني ريحا تريب مجامر الغلس فكان نايا ضمخته يدا اذار ناغم ليلة العرس فغفا و ما زالت ملاحنه ملء الفضاء يعيدها الحب او ان سوسنة يراقصها رجع الغناء بشعرها تربو ****** ياقبلة اخذت علي عجل افدي بعمري ذلك العجلا الشعر ستر بالظلال فمي فهوي علي الوجنات واشتعلا فعلي جوانبهن منه سنا يدعوه من جهل الهوي خجلا فضح احمرارك ياخدود فما زال يفضحني بما يحبو هو طفلك الاهي ينازعه ابدا الي زهراتك العب ****** يا جسم ذاك الطيف ايا شبحا من ذكرياتي يا هوي خدعا لعناتي الحنقات ما برحت تعتاد خدرك و الظلام معا خفقت باجنحة الغراب علي عينيك تنشر حولك الفزعا الصبح صبحك ضحك شامتة دام و ليلك مضجع ينبو و اذا هلكت غدا فلا تجدي قبرا و مزق صدرك الذءب ****** و البوم يملا عشه نتفا من شعرك المتعفر الضجر و يعود ثغرك لذباب لقي و يداك مثقلتان بالحجر لا تدفعان اذاه عن شفة بالامس اخرس لغوها و تري و ليسق من دمك الخبث غدا دوح تعش فوقه الغرب تاوي الصلال الي جوانبه غرثي و يعوي تحته الكلب ****** ويعود من خشباته نزق جان بمقبض خنجر دام ويعد منه سرير زانية تهوي فتثقله باثام وتظل اعواد المشانق من اعواده كسيت باجسام حتي اذا عصف الذبول به وهوي عليه المعول العضب كان الوقود لقدر ساحرة بين المقابر شانها القشب'"
      ]
     },
     "execution_count": 13,
     "metadata": {},
     "output_type": "execute_result"
    }
   ],
   "source": [
    "data['poem_text'][1]"
   ]
  },
  {
   "cell_type": "code",
   "execution_count": 14,
   "id": "9a3cc8ed",
   "metadata": {},
   "outputs": [
    {
     "data": {
      "text/plain": [
       "'انا لا ازال و في يدي قدحي ياليل اين تفرق الشرب ما زلت اشربها و اشربها حتي ترنح افقك الرحب الشرق عفر بالضباب فما يبدو فاين سناك يا غرب ما لنجوم غرقن من سام في ضوءهن و كادت الشهب انا لا ازال و في يدي قدحي ياليل اين تفرق الشرب الحان بالشهوات مصطخب حتي يكاد بهن ينهار و كان مصاحبيه من ضرج كفان مدهما لي العار كفان بل ثغران قد صبغا بدم تدفق منه تيار كاسان ملءهما طلي عصرت من مهجتين رماهما الحب او مخلبان عليهما مزق حمراء تزعم انها قلب الخمر جمعت الدهور ومافيهن بين جوانب الحان ياويحها اسكرت ام سكرتام نحن في السكرات سيان رمت العوالم والدهور علي ثغري وفوق يدي واجفاني كفي تمد فما تناولني كاسا لعيني خمرها نهب واصافح الدنيا فياعجبا البعد لان واعرض القرب يا ليل اين تطوف بي قدمي في اي منعرج من الظلم تلك السبيل اكاد اعرفها بالامس خاصر طيفها حلمي هي غمد خنجرك الرهيب و قد جردته و مسحت عنه دمي تلك السبيل علي جوانبها تمزق الخطوات او تكبو تثاءب الاجساد جاءعه فيها كما يتثاءب ال ءب حسناء يلهب عريها ظماي فاكاد اشرب لك العريا و اكاد احطمه فتحطمني عينان جاءعتان كالدنيا غرست يد الحمي علي فمها زهرا طوي شهواتها طيا ان فتحته بحرها شفه سكري يعربد فوقها ندب رقص الهيب علي كماءمه و مشي الطلاء يهزه الوثب عين يرنح هدبها نفسي وفم يقطع همسه الداء ويد علي كتفي مجلجله رباه ويك اتلك حواء لا كنت ادمها و لا لفحت فردوسي الخمري صحراء صوت النعاس يرن في افقي فت وب ناعسه به السحب ان الفراش يقيك ياقدمي سوء العثار ا ا دجي درب انا حاءر متوجف قلق كالظل بين جوانب البحر المد قربني الي شبحي والان تبعدني يد الجزر وانا الضياء تخيفني دجن واخاف ان ساضيع في الفجر يانوم كل عوالمي حجب ولو التقيتك ابت الحجب و انثال من سهري علي سهري ينبوعك المتثاءب الرطب اثملت بين جوانحي املا ماكنت اعلم انه امل مثل الفراشه عاد يحبسها دوح ب اءب طله خضل لولا خفوق جناحها غفلت بيض الازاهر عنه والمقل انا من ظلالك بين اوديه ع راء كل سهادها عشب هام الضباب علي جوانبها طل الوشاح كنجمه تخبو انا كوكب ظمان ترعشه نطف مءرجه من السحر انا غير جسمي عالمي حلم بكر الظلال ولمحه عمري قلبي تغرب عن احبته وانسل من نغماته وتري فا ا لثمت فغير خادعه بات لكل مخادع تصبو وا ا شدوت ارن في افق عبر السماء غناءي الع ب هو يافءادي طيفها مسحت عنه التراب انامل الغسق هو غير تلك اما تري القا هو من دماءك انت من حرقي هو غيرها غدرت وبادلني حبي و ضمد بالسنا افقي ومن المهازل ان يري امدا بين الخيانه و الهوي هدب اين العوالم كيف غيرها نوم يرف وخاطر صب خفقت واءبها علي شفتي و سني فاسكر عطرها نفسي نهر من النفحات ارشفني ريحا تريب مجامر الغلس فكان نايا ضمخته يدا ا ار ناغم ليله العرس فغفا و ما زالت ملاحنه ملء الفضاء يعيدها الحب او ان سوسنه يراقصها رجع الغناء بشعرها تربو ياقبله اخ ت علي عجل افدي بعمري لك العجلا الشعر ستر بالظلال فمي فهوي علي الوجنات واشتعلا فعلي جوانبهن منه سنا يدعوه من جهل الهوي خجلا فضح احمرارك ياخدود فما زال يفضحني بما يحبو هو طفلك الاهي ينازعه ابدا الي زهراتك العب يا جسم اك الطيف ايا شبحا من كرياتي يا هوي خدعا لعناتي الحنقات ما برحت تعتاد خدرك و الظلام معا خفقت باجنحه الغراب علي عينيك تنشر حولك الفزعا الصبح صبحك ضحك شامته دام و ليلك مضجع ينبو و ا ا هلكت غدا فلا تجدي قبرا و مزق صدرك ال ءب و البوم يملا عشه نتفا من شعرك المتعفر الضجر و يعود ثغرك ل باب لقي و يداك مثقلتان بالحجر لا تدفعان ا اه عن شفه بالامس اخرس لغوها و تري و ليسق من دمك الخبث غدا دوح تعش فوقه الغرب تاوي الصلال الي جوانبه غرثي و يعوي تحته الكلب ويعود من خشباته نزق جان بمقبض خنجر دام ويعد منه سرير زانيه تهوي فتثقله باثام وتظل اعواد المشانق من اعواده كسيت باجسام حتي ا ا عصف ال بول به وهوي عليه المعول العضب كان الوقود لقدر ساحره بين المقابر شانها القشب'"
      ]
     },
     "execution_count": 14,
     "metadata": {},
     "output_type": "execute_result"
    }
   ],
   "source": [
    "clean_text(data['poem_text'][1])"
   ]
  },
  {
   "cell_type": "code",
   "execution_count": 15,
   "id": "208d916d",
   "metadata": {},
   "outputs": [],
   "source": [
    "texts=[]\n",
    "for text in data['poem_text']:\n",
    "    cleaned=clean_text(text)\n",
    "    texts.append(cleaned)\n",
    "data['poem_text'] = texts\n"
   ]
  },
  {
   "cell_type": "code",
   "execution_count": 16,
   "id": "10b33eff",
   "metadata": {},
   "outputs": [
    {
     "data": {
      "text/plain": [
       "'عيناك غابتا نخيل ساعه السحر او شرفتان راح يناي عنهما القمر عيناك حين تبسمان تورق الكروم وترقص الاضواء كالاقمار في نهر يرجه المج اف وهنا ساعه السحر كانما تنبض في غوريهما النجوم وتغرقان في ضباب من اسي شفيف كالبحر سرح اليدين فوقه المساء دفء الشتاء فيه وارتعاشه الخريف والموت والميلاد والظلام والضياء فتستفيق ملء روحي رعشه البكاء ونشوه وحشيه تعانق السماء كنشوه الطفل ا ا خاف من القمر كان اقواس السحاب تشرب الغيوم وقطره فقطره ت وب في المطر وكركر الاطفال في عراءش الكروم ودغدغت صمت العصافير علي الشجر انشوده المطر مطر مطر مطر تثاءب المساء والغيوم ما تزال تسح ما تسح من دموعها الثقال كان طفلا بات يه ي قبل ان ينام بان امه التي افاق من عام فلم يجدها ثم حين لج في السءال قالوا له بعد غد تعود لا بد ان تعود وان تهامس الرفاق انها هناك في جانب التل تنام نومه الحود تسف من ترابها وتشرب المطر كان صيادا حزينا يجمع الشباك ويلعن المياه والقدر وينثر الغناء حيث يافل القمر مطر مطر اتعلمين اي حزن يبعث المطر وكيف تنشج المزاريب ا ا انهمر وكيف يشعر الوحيد فيه بالضياع بلا انتهاء كالدم المراق كالجياع كالحب كالاطفال كالموتي هو المطر ومقلتاك بي تطيفان مع المطر وعبر امواج الخليج تمسح البروق سواحل العراق بالنجوم والمحار كانها تهم بالشروق فيسحب اليل عليها من دم دثار اصيح بالخليج يا خليج يا واهب الءلء والمحار والردي فيرجع الصدي كانه النشيج يا خليج يا واهب المحار والردي اكاد اسمع العراق ي خر الرعود ويخزن البروق في السهول والجبال حتي ا ا ما فض عنها ختمها الرجال لم ترك الرياح من ثمود في الواد من اثر اكاد اسمع النخيل يشرب المطر واسمع القري تءن والمهاجرين يصارعون بالمجا يف وبالقلوع عواصف الخليج والرعود منشدين مطر مطر مطر وفي العراق جوع وينثر الغلال فيه موسم الحصاد لتشبع الغربان والجراد وتطحن الشوان والحجر رحي تدور في الحقول حولها بشر مطر مطر مطر وكم رفنا ليله الرحيل من دموع ثم اعتلنا خوف ان نلام بالمطر مطر مطر ومن ان كنا صغارا كانت السماء تغيم في الشتاء ويهطل المطر وكل عام حين يعشب الثري نجوع ما مر عام والعراق ليس فيه جوع مطر مطر مطر في كل قطره من المطر حمراء او صفراء من اجنه الزهر وكل دمعه من الجياع والعراه وكل قطره تراق من دم العبيد فهي ابتسام في انتظار مبسم جديد او حلمه توردت علي فم الوليد في عالم الغد الفتي واهب الحياه مطر مطر مطر سيعشب العراق بالمطر اصيح بالخليج يا خليج يا واهب الءلء والمحار والردي فيرجع الصدي كانه النشيج يا خليج يا واهب المحار والردي وينثر الخليج من هباته الكثار علي الرمال رغوه الاجاج والمحار وما تبقي من عظام باءس غريق من المهاجرين ظل يشرب الردي من لجه الخليج والقرار وفي العراق الف افعي تشرب الرحيق من زهره يربها الفرات بالندي واسمع الصدي يرن في الخليج مطر مطر مطر في كل قطره من المطر حمراء او صفراء من اجنه الزهر وكل دمعه من الجياع والعراه وكل قطره تراق من دم العبيد فهي ابتسام في انتظار مبسم جديد او حلمه توردت علي فم الوليد في عالم الغد الفتي واهب الحياه ويهطل المطر'"
      ]
     },
     "execution_count": 16,
     "metadata": {},
     "output_type": "execute_result"
    }
   ],
   "source": [
    "data['poem_text'][0]"
   ]
  },
  {
   "cell_type": "code",
   "execution_count": 17,
   "id": "8d952d9b",
   "metadata": {
    "scrolled": true
   },
   "outputs": [
    {
     "data": {
      "text/plain": [
       "العصر العباسي          19400\n",
       "العصر الأندلسي          6292\n",
       "سوريا                   5031\n",
       "مصر                     4770\n",
       "لبنان                   4585\n",
       "العراق                  4229\n",
       "العصر الإسلامي          3698\n",
       "السعودية                1928\n",
       "فلسطين                  1710\n",
       "العصر الجاهلي           1457\n",
       "اليمن                    698\n",
       "عمان                     608\n",
       "الإمارات                 563\n",
       "البحرين                  551\n",
       "الجزائر                  405\n",
       "السودان                  403\n",
       "تونس                     351\n",
       "الأردن                   263\n",
       "ليبيا                    238\n",
       "المغرب                   201\n",
       "إيران                     90\n",
       "أفغانستان                 70\n",
       "شعراء العراق والشام       68\n",
       "الكويت                    54\n",
       "قطر                       22\n",
       "موريتانيا                 15\n",
       "Name: poet_cat, dtype: int64"
      ]
     },
     "execution_count": 17,
     "metadata": {},
     "output_type": "execute_result"
    }
   ],
   "source": [
    "data['poet_cat'].value_counts()"
   ]
  },
  {
   "cell_type": "code",
   "execution_count": 18,
   "id": "2c6034d3",
   "metadata": {},
   "outputs": [
    {
     "data": {
      "text/plain": [
       "Index(['العصر العباسي', 'العصر الأندلسي', 'سوريا', 'مصر', 'لبنان', 'العراق',\n",
       "       'العصر الإسلامي', 'السعودية', 'فلسطين', 'العصر الجاهلي', 'اليمن',\n",
       "       'عمان', 'الإمارات', 'البحرين', 'الجزائر', 'السودان', 'تونس', 'الأردن',\n",
       "       'ليبيا', 'المغرب', 'إيران', 'أفغانستان', 'شعراء العراق والشام',\n",
       "       'الكويت', 'قطر', 'موريتانيا'],\n",
       "      dtype='object')"
      ]
     },
     "execution_count": 18,
     "metadata": {},
     "output_type": "execute_result"
    }
   ],
   "source": [
    "data['poet_cat'].value_counts().keys()"
   ]
  },
  {
   "cell_type": "code",
   "execution_count": 19,
   "id": "03df799a",
   "metadata": {},
   "outputs": [
    {
     "data": {
      "text/plain": [
       "['سوريا',\n",
       " 'مصر',\n",
       " 'لبنان',\n",
       " 'العراق',\n",
       " 'السعودية',\n",
       " 'فلسطين',\n",
       " 'اليمن',\n",
       " 'عمان',\n",
       " 'الإمارات',\n",
       " 'البحرين',\n",
       " 'الجزائر',\n",
       " 'السودان',\n",
       " 'تونس',\n",
       " 'الأردن',\n",
       " 'ليبيا',\n",
       " 'المغرب',\n",
       " 'إيران',\n",
       " 'أفغانستان',\n",
       " 'شعراء العراق والشام',\n",
       " 'الكويت',\n",
       " 'قطر',\n",
       " 'موريتانيا']"
      ]
     },
     "execution_count": 19,
     "metadata": {},
     "output_type": "execute_result"
    }
   ],
   "source": [
    "to_not__replace=['العصر الجاهلي', 'العصر العباسي'  , 'العصر الأندلسي' , 'العصر الإسلامي']\n",
    "moderns = [x for x in data['poet_cat'].value_counts().keys() if x not in to_not__replace]\n",
    "moderns"
   ]
  },
  {
   "cell_type": "code",
   "execution_count": 20,
   "id": "b81e8a1b",
   "metadata": {},
   "outputs": [],
   "source": [
    "for i in range(len(moderns)):\n",
    "    data['poet_cat']=data['poet_cat'].str.replace(moderns[i],'العصر الحيث')"
   ]
  },
  {
   "cell_type": "code",
   "execution_count": 21,
   "id": "95dfb8f6",
   "metadata": {},
   "outputs": [
    {
     "data": {
      "text/plain": [
       "Index(['العصر الحيث', 'العصر العباسي', 'العصر الأندلسي', 'العصر الإسلامي',\n",
       "       'العصر الجاهلي', 'شعراء العصر الحيث والشام'],\n",
       "      dtype='object')"
      ]
     },
     "execution_count": 21,
     "metadata": {},
     "output_type": "execute_result"
    }
   ],
   "source": [
    "data['poet_cat'].value_counts().keys()"
   ]
  },
  {
   "cell_type": "code",
   "execution_count": 23,
   "id": "7a8b4117",
   "metadata": {},
   "outputs": [
    {
     "data": {
      "text/plain": [
       "Index(['العصر الحيث', 'العصر العباسي', 'العصر الأندلسي', 'العصر الإسلامي',\n",
       "       'العصر الجاهلي'],\n",
       "      dtype='object')"
      ]
     },
     "execution_count": 23,
     "metadata": {},
     "output_type": "execute_result"
    }
   ],
   "source": [
    "data['poet_cat']=data['poet_cat'].str.replace('شعراء العصر الحيث والشام','العصر الحيث')\n",
    "data['poet_cat'].value_counts().keys()"
   ]
  },
  {
   "cell_type": "code",
   "execution_count": 24,
   "id": "dd50b9ec",
   "metadata": {},
   "outputs": [
    {
     "data": {
      "text/plain": [
       "العصر الحيث       26853\n",
       "العصر العباسي     19400\n",
       "العصر الأندلسي     6292\n",
       "العصر الإسلامي     3698\n",
       "العصر الجاهلي      1457\n",
       "Name: poet_cat, dtype: int64"
      ]
     },
     "execution_count": 24,
     "metadata": {},
     "output_type": "execute_result"
    }
   ],
   "source": [
    "data['poet_cat'].value_counts()"
   ]
  },
  {
   "cell_type": "code",
   "execution_count": 25,
   "id": "0cd242c1",
   "metadata": {},
   "outputs": [],
   "source": [
    "from sklearn.model_selection import train_test_split\n",
    "X_train , X_test , y_train , y_test =train_test_split(data['poem_text'] , data['poet_cat'] , shuffle=True)"
   ]
  },
  {
   "cell_type": "code",
   "execution_count": 30,
   "id": "3a5f84a3",
   "metadata": {},
   "outputs": [
    {
     "data": {
      "text/plain": [
       "(43275, 14425)"
      ]
     },
     "execution_count": 30,
     "metadata": {},
     "output_type": "execute_result"
    }
   ],
   "source": [
    "len(X_train)   , len(X_test)"
   ]
  },
  {
   "cell_type": "code",
   "execution_count": 35,
   "id": "96fa41b2",
   "metadata": {},
   "outputs": [],
   "source": [
    "from sklearn.feature_extraction.text import TfidfVectorizer\n",
    "import nltk\n",
    "from nltk.corpus import stopwords\n",
    "arabic_stopwords = stopwords.words('arabic')"
   ]
  },
  {
   "cell_type": "code",
   "execution_count": 36,
   "id": "7ee22a34",
   "metadata": {},
   "outputs": [],
   "source": [
    "vec = TfidfVectorizer(analyzer='word' , stop_words=arabic_stopwords , ngram_range=(1,2) , max_df=1.0 , min_df=1 , max_features=10000)"
   ]
  },
  {
   "cell_type": "code",
   "execution_count": 37,
   "id": "ee070a6c",
   "metadata": {},
   "outputs": [
    {
     "name": "stderr",
     "output_type": "stream",
     "text": [
      "C:\\Users\\KRM0201517\\Anaconda3\\lib\\site-packages\\sklearn\\feature_extraction\\text.py:388: UserWarning: Your stop_words may be inconsistent with your preprocessing. Tokenizing the stop words generated tokens ['آمين', 'أب', 'أخ', 'أفعل', 'أفعله', 'ؤلاء', 'إل', 'إم', 'ات', 'اتان', 'ارتد', 'ان', 'انفك', 'برح', 'تان', 'تبد', 'تحو', 'تعل', 'حد', 'حم', 'حي', 'خب', 'ذار', 'سيما', 'صه', 'ظل', 'ظن', 'عد', 'قط', 'مر', 'مكان', 'مكانكن', 'نب', 'هات', 'هب', 'واها', 'وراء'] not in stop_words.\n",
      "  warnings.warn('Your stop_words may be inconsistent with '\n"
     ]
    }
   ],
   "source": [
    "X_train = vec.fit_transform(X_train)"
   ]
  },
  {
   "cell_type": "code",
   "execution_count": 38,
   "id": "565571d4",
   "metadata": {},
   "outputs": [],
   "source": [
    "X_test = vec.transform(X_test)"
   ]
  },
  {
   "cell_type": "code",
   "execution_count": 39,
   "id": "7f151199",
   "metadata": {},
   "outputs": [
    {
     "data": {
      "text/plain": [
       "MultinomialNB()"
      ]
     },
     "execution_count": 39,
     "metadata": {},
     "output_type": "execute_result"
    }
   ],
   "source": [
    "from sklearn.naive_bayes import MultinomialNB\n",
    "model = MultinomialNB()\n",
    "model.fit(X_train , y_train)"
   ]
  },
  {
   "cell_type": "code",
   "execution_count": 41,
   "id": "145228f3",
   "metadata": {},
   "outputs": [],
   "source": [
    "from sklearn.metrics import accuracy_score"
   ]
  },
  {
   "cell_type": "code",
   "execution_count": 42,
   "id": "be90f878",
   "metadata": {},
   "outputs": [
    {
     "data": {
      "text/plain": [
       "0.6759098786828422"
      ]
     },
     "execution_count": 42,
     "metadata": {},
     "output_type": "execute_result"
    }
   ],
   "source": [
    "preds = model.predict(X_test)\n",
    "accuracy_score(y_test , preds)"
   ]
  },
  {
   "cell_type": "code",
   "execution_count": null,
   "id": "c94021a1",
   "metadata": {},
   "outputs": [],
   "source": []
  }
 ],
 "metadata": {
  "kernelspec": {
   "display_name": "Python 3 (ipykernel)",
   "language": "python",
   "name": "python3"
  },
  "language_info": {
   "codemirror_mode": {
    "name": "ipython",
    "version": 3
   },
   "file_extension": ".py",
   "mimetype": "text/x-python",
   "name": "python",
   "nbconvert_exporter": "python",
   "pygments_lexer": "ipython3",
   "version": "3.9.7"
  }
 },
 "nbformat": 4,
 "nbformat_minor": 5
}
